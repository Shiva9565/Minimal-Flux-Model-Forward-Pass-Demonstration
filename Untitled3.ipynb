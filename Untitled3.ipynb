{
  "nbformat": 4,
  "nbformat_minor": 0,
  "metadata": {
    "colab": {
      "provenance": []
    },
    "kernelspec": {
      "name": "julia",
      "display_name": "Julia"
    },
    "language_info": {
      "name": "julia"
    }
  },
  "cells": [
    {
      "cell_type": "code",
      "execution_count": null,
      "metadata": {
        "colab": {
          "base_uri": "https://localhost:8080/"
        },
        "id": "76MOBK2RdhFV",
        "outputId": "c45a02b2-0c02-4fe6-9965-1120ceba6822"
      },
      "outputs": [
        {
          "output_type": "stream",
          "name": "stdout",
          "text": [
            "Reading package lists... Done\n",
            "Building dependency tree... Done\n",
            "Reading state information... Done\n",
            "Package julia is not available, but is referred to by another package.\n",
            "This may mean that the package is missing, has been obsoleted, or\n",
            "is only available from another source\n",
            "\n",
            "E: Package 'julia' has no installation candidate\n",
            "\u001b[32m\u001b[1m    Updating\u001b[22m\u001b[39m registry at `~/.julia/registries/General.toml`\n",
            "\u001b[?25h\u001b[2K\u001b[32m\u001b[1m   Resolving\u001b[22m\u001b[39m package versions...\n",
            "\u001b[32m\u001b[1m  No Changes\u001b[22m\u001b[39m to `~/.julia/environments/v1.10/Project.toml`\n",
            "\u001b[32m\u001b[1m  No Changes\u001b[22m\u001b[39m to `~/.julia/environments/v1.10/Manifest.toml`\n",
            "\u001b[?25l\u001b[?25h\u001b[2K\u001b[?25h"
          ]
        }
      ],
      "source": [
        "!apt-get install julia\n",
        "!julia -e 'using Pkg; Pkg.add(\"IJulia\")'"
      ]
    },
    {
      "cell_type": "code",
      "source": [
        "!julia -e 'using IJulia; IJulia.installkernel(\"Julia\")'"
      ],
      "metadata": {
        "colab": {
          "base_uri": "https://localhost:8080/"
        },
        "id": "j7NXtVuRd_nn",
        "outputId": "55a2609f-0354-429a-e1a7-d3afbc952072"
      },
      "execution_count": null,
      "outputs": [
        {
          "output_type": "stream",
          "name": "stdout",
          "text": [
            "\u001b[36m\u001b[1m[ \u001b[22m\u001b[39m\u001b[36m\u001b[1mInfo: \u001b[22m\u001b[39mInstalling Julia kernelspec in /root/.local/share/jupyter/kernels/julia-1.10\n"
          ]
        }
      ]
    },
    {
      "cell_type": "code",
      "source": [
        "using Pkg\n",
        "Pkg.add(\"Flux\")\n",
        "Pkg.add(\"Images\")\n",
        "Pkg.add(\"FileIO\")"
      ],
      "metadata": {
        "colab": {
          "base_uri": "https://localhost:8080/"
        },
        "id": "TE0NgU4leFX2",
        "outputId": "4e094808-a4ec-40e5-bc1d-0468dfd85b9d"
      },
      "execution_count": 3,
      "outputs": [
        {
          "output_type": "stream",
          "name": "stderr",
          "text": [
            "\u001b[32m\u001b[1m   Resolving\u001b[22m\u001b[39m package versions...\n",
            "\u001b[32m\u001b[1m  No Changes\u001b[22m\u001b[39m to `~/.julia/environments/v1.10/Project.toml`\n",
            "\u001b[32m\u001b[1m  No Changes\u001b[22m\u001b[39m to `~/.julia/environments/v1.10/Manifest.toml`\n",
            "\u001b[32m\u001b[1m   Resolving\u001b[22m\u001b[39m package versions...\n",
            "\u001b[32m\u001b[1m  No Changes\u001b[22m\u001b[39m to `~/.julia/environments/v1.10/Project.toml`\n",
            "\u001b[32m\u001b[1m  No Changes\u001b[22m\u001b[39m to `~/.julia/environments/v1.10/Manifest.toml`\n",
            "\u001b[32m\u001b[1m   Resolving\u001b[22m\u001b[39m package versions...\n",
            "\u001b[32m\u001b[1m  No Changes\u001b[22m\u001b[39m to `~/.julia/environments/v1.10/Project.toml`\n",
            "\u001b[32m\u001b[1m  No Changes\u001b[22m\u001b[39m to `~/.julia/environments/v1.10/Manifest.toml`\n"
          ]
        }
      ]
    },
    {
      "cell_type": "code",
      "source": [
        "using Flux\n",
        "using Images\n",
        "using FileIO\n",
        "\n",
        "# Defining a minimal model architecture\n",
        "model = Chain(\n",
        "    Conv((3, 3), 1 => 16, relu),  # Convolutional layer with 16 filters, 3x3 kernel, ReLU activation\n",
        "    MaxPool((2, 2)),              # Max pooling layer with 2x2 window\n",
        "    Flux.flatten,                 # Flatten the output for the dense layer\n",
        "    Dense(16 * 13 * 13 => 10),    # Dense layer with 10 output units (e.g., for 10 classes)\n",
        "    softmax                       # Softmax activation for probabilistic output\n",
        ")\n",
        "\n",
        "# Load and preprocess an image\n",
        "function preprocess_image(image_path)\n",
        "    # Load the image and resize it to 28x28 (common size for simple models)\n",
        "    img = load(image_path)\n",
        "    img = imresize(img, (28, 28))\n",
        "\n",
        "    # Convert the image to grayscale and normalize pixel values to [0, 1]\n",
        "    img = Gray.(img)\n",
        "    img = Float32.(img) ./ 255.0\n",
        "\n",
        "    # Reshape the image to match the expected input shape (1 channel, 28x28)\n",
        "    img = reshape(img, 28, 28, 1, 1)\n",
        "    return img\n",
        "end\n",
        "\n",
        "# Perform a forward pass\n",
        "function forward_pass(model, image_path)\n",
        "    # Preprocess the image\n",
        "    img = preprocess_image(image_path)\n",
        "\n",
        "    # Run the forward pass\n",
        "    output = model(img)\n",
        "\n",
        "    # Print the output\n",
        "    println(\"Model output (probabilities): \", output)\n",
        "    return output\n",
        "end\n",
        "\n",
        "# Example usage\n",
        "image_path = \"test.jpg\"  # Replace with the path to your image\n",
        "forward_pass(model, image_path)"
      ],
      "metadata": {
        "id": "8Dgc_7vVeRSn",
        "colab": {
          "base_uri": "https://localhost:8080/"
        },
        "outputId": "f0c166b4-dfe9-4b2b-9f7d-20cd7a7de1f6"
      },
      "execution_count": 4,
      "outputs": [
        {
          "output_type": "stream",
          "name": "stdout",
          "text": [
            "Model output (probabilities): Float32[0.09987569; 0.09999001; 0.1001171; 0.100058705; 0.0998732; 0.09996415; 0.10008679; 0.09989425; 0.10007079; 0.100069255;;]\n"
          ]
        },
        {
          "output_type": "execute_result",
          "data": {
            "text/plain": [
              "10×1 Matrix{Float32}:\n",
              " 0.09987569\n",
              " 0.09999001\n",
              " 0.1001171\n",
              " 0.100058705\n",
              " 0.0998732\n",
              " 0.09996415\n",
              " 0.10008679\n",
              " 0.09989425\n",
              " 0.10007079\n",
              " 0.100069255"
            ]
          },
          "metadata": {},
          "execution_count": 4
        }
      ]
    }
  ]
}